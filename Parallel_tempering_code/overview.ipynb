{
 "cells": [
  {
   "cell_type": "markdown",
   "metadata": {},
   "source": [
    "### Parallel tempering - details about the code"
   ]
  },
  {
   "cell_type": "markdown",
   "metadata": {},
   "source": [
    "All simulations are executed in a periodically repeated box (or supercell). \n",
    "We consider two different geometries:\n",
    "1. a _rectangular_ simulation box, described in the main text, containing\n",
    "    $M \\times M$ dimers, and constructed with a $L_y/L_x=\\sqrt{3}$ ratio between the sides compatible with the triangular lattice. By modifying the $L_y/L_x$ ratio to $1/\\tan(\\alpha_0)$, where $\\alpha_0$ is the angle between primitive lattice vectors, it becomes compatible with the configuration (c) of the\n",
    "nematic ground state (the one with the dimers oriented along the $y$ axis, Fig.5(c) of the paper).\n",
    "\n",
    "2. a _parallelogram_-shaped box, necessary to simulate the nematic configurations reported in Fig.~5(a) and (b) of the paper.\n",
    "\n",
    "We implemented the periodic boundary conditions for non-orthogonal simulations cells as described in the book by Allen and Tildesley [M. P. Allen and D. J. Tildesley,Computer Simulation ofLiquids- II edition, Oxford University Press (2017)]. Therefore, the code is capable of dealing with rectangular and rhombic boxes equally well.\n",
    "\n",
    "The potential cutoff distance is set to $3.0 \\,R$.\n",
    "\n",
    "Clearly, the energy of the nematic ground state with the dimers aligned along $y$, simulated \n",
    "with PT in either the rectangular or the rhombic box is the same."
   ]
  },
  {
   "cell_type": "markdown",
   "metadata": {},
   "source": [
    "At each steps the PT code attempts to perform $N/2$ dimer moves and two moves acting on the box. In particular:\n",
    "\n",
    "* the $N/2$ *dimer* moves are:\n",
    "\n",
    "1) random rigid displacement of a dimer, within a given range\n",
    "\n",
    "2) random rotation around the dimer center of mass\n",
    "\n",
    "3) cluster deformation: the relative distance of the two particles of a dimer from the barycenter is randomly reduced or increased along their joining line, within a given range\n",
    "\n",
    "* afterwards, at each step, the code tries to modify the aspect ratio of the box, by preserving the overall area while changing the ratio $L_y/L_x$. The particle coordinates are modified accordingly, in order to preserve their relative position inside the cell.\n",
    "\n",
    "* the code tries also to change the angle between the two box basis vectors (i.e. between the basis vectors of each cell). Here as well the particle coordinates are updated accordingly, in case the move is accepted.\n",
    "\n",
    "The above moves are attempted by different parallel ranks for each of the simulated $T_i$, the code identifies all the dimers and acts on such degrees of freedom.\n",
    "\n",
    "Every $n_e$ steps, with optimal $n_e$ values between 5 and 10, configurations exchanges are attempted between neighboring temperatures."
   ]
  },
  {
   "cell_type": "markdown",
   "metadata": {},
   "source": [
    "Here, the acceptance probability to exchange the configuration $\\mathbf{R_i}$ with $\\mathbf{R_{i-1}}$ is $\\min (1, \\exp[\\beta_i U(\\mathbf{R_i})-\\beta_{i-1} U(\\mathbf{R_{i-1}})])$ where $U(\\mathbf{R_i})$ is the total potential energy of the configuration $\\mathbf{R_i}$ at temperature $1/\\beta_i$."
   ]
  },
  {
   "cell_type": "code",
   "execution_count": null,
   "metadata": {},
   "outputs": [],
   "source": []
  }
 ],
 "metadata": {
  "kernelspec": {
   "display_name": "Python 3",
   "language": "python",
   "name": "python3"
  },
  "language_info": {
   "codemirror_mode": {
    "name": "ipython",
    "version": 3
   },
   "file_extension": ".py",
   "mimetype": "text/x-python",
   "name": "python",
   "nbconvert_exporter": "python",
   "pygments_lexer": "ipython3",
   "version": "3.8.5"
  }
 },
 "nbformat": 4,
 "nbformat_minor": 4
}
